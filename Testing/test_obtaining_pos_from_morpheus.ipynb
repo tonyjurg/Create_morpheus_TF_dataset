{
 "cells": [
  {
   "cell_type": "markdown",
   "id": "6b73deca-1e66-4c3e-9bb6-0f1a3eeeb135",
   "metadata": {},
   "source": [
    "# Test 'default' Morpheus option for PoS info"
   ]
  },
  {
   "cell_type": "markdown",
   "id": "31261bfd-ab07-47ff-9e3d-efa326e095d0",
   "metadata": {},
   "source": [
    "## Table of content (ToC)<a class=\"anchor\" id=\"TOC\"></a>\n",
    "* <a href=\"#bullet1\">1 - Introduction</a>\n",
    "* <a href=\"#bullet2\">2 - Feeder script</a>\n",
    "* <a href=\"#bullet3\">3 - Output data</a>\n",
    "* <a href=\"#bullet4\">4 - Processing the output data</a>\n",
    "* <a href=\"#bullet5\">5 - Notebook version details</a>"
   ]
  },
  {
   "cell_type": "markdown",
   "id": "b9154859-6477-42db-8404-8ec0cabf303f",
   "metadata": {},
   "source": [
    "# 1 - Introduction<a class=\"anchor\" id=\"bullet1\"></a>\n",
    "##### [Back to ToC](#TOC)\n",
    "\n",
    "This notebook was created to verify if the 'default' option for Morpheus chruncher does provide sufficient details on the Part of Speech in order to be usefull.\n",
    "\n",
    "Note: this notebook still used a local script running inside the Morpheus docker instance. This configuration has been replaced with an API and a specialy written Python package [morphkit](https://tonyjurg.github.io/morphkit/) which simplifies these type of analysis significant. "
   ]
  },
  {
   "cell_type": "markdown",
   "id": "cfe49b9d-cc9a-4e9a-9ab1-1df4f97b5a32",
   "metadata": {},
   "source": [
    "# 2 - Feeder script<a class=\"anchor\" id=\"bullet2\"></a>\n",
    "##### [Back to ToC](#TOC)\n",
    "\n",
    "The following bash script was run in the Docker environment to feed Morpheus chruncher (note the 'default' as there are no switches provided):"
   ]
  },
  {
   "cell_type": "raw",
   "id": "b30de785-cb35-467a-9faa-d17bffe5b5f5",
   "metadata": {},
   "source": [
    "#!/bin/bash\n",
    "\n",
    "# Variables\n",
    "INPUT_FILE=\"/mnt/gnt_words.txt\"                # Input file with GNT words\n",
    "OUTPUT_FILE=\"/mnt/gnt_morphology_results2.txt\"  # Output file for morphology results\n",
    "CRUNCHER_COMMAND=\"/morpheus/bin/cruncher\"      # Path to the cruncher command\n",
    "MORPHLIB_PATH=\"/morpheus/stemlib\"              # Path to the morphology library\n",
    "\n",
    "# Check if the input file exists\n",
    "if [[ ! -f \"$INPUT_FILE\" ]]; then\n",
    "    echo \"Error: Input file '$INPUT_FILE' not found.\"\n",
    "    exit 1\n",
    "fi\n",
    "\n",
    "# Clear or create the output file\n",
    "> \"$OUTPUT_FILE\"\n",
    "\n",
    "echo \"Processing words in '$INPUT_FILE'...\"\n",
    "\n",
    "# Process each word\n",
    "while IFS= read -r word; do\n",
    "    if [[ -n \"$word\" ]]; then\n",
    "        result=$(echo \"$word\" | MORPHLIB=$MORPHLIB_PATH $CRUNCHER_COMMAND)\n",
    "\n",
    "        if [[ -n \"$result\" ]]; then\n",
    "            echo \"$word => $result\" >> \"$OUTPUT_FILE\"\n",
    "        else\n",
    "            echo \"$word => (no result)\" >> \"$OUTPUT_FILE\"\n",
    "        fi\n",
    "    fi\n",
    "done < \"$INPUT_FILE\"\n",
    "\n",
    "echo \"Morphology lookup complete. Results saved to '$OUTPUT_FILE'.\""
   ]
  },
  {
   "cell_type": "markdown",
   "id": "cb328840-906e-4962-968d-dd906d8f12ab",
   "metadata": {},
   "source": [
    "# 3 - Output data<a class=\"anchor\" id=\"bullet3\"></a>\n",
    "##### [Back to ToC](#TOC)\n",
    "\n",
    "A small slice of the output data:"
   ]
  },
  {
   "cell_type": "raw",
   "id": "f9e866d3-562c-4d1c-9342-b045e28c3005",
   "metadata": {},
   "source": [
    "*anaqema\n",
    " => (no result)\n",
    "*ai)gupti/wn\n",
    " => *ai)gupti/wn\n",
    "<NL>N *ai)gu/ptios  fem gen pl\t\t\tos_h_on</NL><NL>N *ai)gu/ptios  masc/neut gen pl\t\t\tos_h_on</NL><NL>V *ai)guptio/w  imperf ind act 3rd pl\tdoric aeolic\tcontr\tow_pr,ow_denom</NL><NL>V *ai)guptio/w  imperf ind act 1st sg\tdoric aeolic\tcontr\tow_pr,ow_denom</NL>\n",
    "*ai)gu/ptioi\n",
    " => *ai)gu/ptioi\n",
    "<NL>N *ai)gu/ptios  masc nom/voc pl\t\t\tos_h_on</NL>"
   ]
  },
  {
   "cell_type": "markdown",
   "id": "d834c851-0f13-443b-a6fe-6c02ad999ee7",
   "metadata": {},
   "source": [
    "# 4 - Processing the output data<a class=\"anchor\" id=\"bullet4\"></a>\n",
    "##### [Back to ToC](#TOC)\n",
    "\n",
    "After porting the output file back to my local machine, the following Python code was executed:"
   ]
  },
  {
   "cell_type": "code",
   "execution_count": 4,
   "id": "f4b83eb7-96c1-4d57-8c61-1cd162efaca0",
   "metadata": {},
   "outputs": [
    {
     "name": "stdout",
     "output_type": "stream",
     "text": [
      "\n",
      "Frequency of first letters after <NL>:\n",
      "\n",
      "V: 14163\n",
      "N: 11263\n",
      "P: 4971\n",
      "E: 9\n"
     ]
    }
   ],
   "source": [
    "from collections import Counter\n",
    "\n",
    "def countLettersAfterNL(filePath):\n",
    "    with open(filePath, \"r\", encoding=\"utf-8\") as f:\n",
    "        content = f.read()\n",
    "\n",
    "    counter = Counter()\n",
    "    idx = 0\n",
    "    while idx < len(content):\n",
    "        idx = content.find(\"<NL>\", idx)\n",
    "        if idx == -1:\n",
    "            break\n",
    "        after_nl_idx = idx + len(\"<NL>\")\n",
    "        if after_nl_idx < len(content):\n",
    "            letter = content[after_nl_idx]\n",
    "            if letter.strip():  # skip any whitespace\n",
    "                counter[letter] += 1\n",
    "        idx = after_nl_idx\n",
    "\n",
    "    return counter\n",
    "\n",
    "if __name__ == \"__main__\":\n",
    "    inputFile = \"gnt_morphology_results2.txt\"  # input text file\n",
    "    letterCounts = countLettersAfterNL(inputFile)\n",
    "\n",
    "    print(\"\\nFrequency of first letters after <NL>:\\n\")\n",
    "    for letter, count in letterCounts.most_common():\n",
    "        print(f\"{letter}: {count}\")"
   ]
  },
  {
   "cell_type": "markdown",
   "id": "3faf1fb6-10d5-4ba1-8e37-18763e7197a1",
   "metadata": {},
   "source": [
    "Hence the conclusion is clear. This is not giving me the proper Part of Speech."
   ]
  },
  {
   "cell_type": "markdown",
   "id": "04c1adcd-b1cb-46bb-a7a6-b1835c94122f",
   "metadata": {},
   "source": [
    "# 5 - Notebook version details<a class=\"anchor\" id=\"bullet5\"></a>\n",
    "##### [Back to ToC](#TOC)\n",
    "\n",
    "<div style=\"float: left;\">\n",
    "  <table>\n",
    "    <tr>\n",
    "      <td><strong>Author</strong></td>\n",
    "      <td>Tony Jurg</td>\n",
    "    </tr>\n",
    "    <tr>\n",
    "      <td><strong>Version</strong></td>\n",
    "      <td>1.1</td>\n",
    "    </tr>\n",
    "    <tr>\n",
    "      <td><strong>Date</strong></td>\n",
    "      <td>22 April 2025</td>\n",
    "    </tr>\n",
    "  </table>\n",
    "</div>"
   ]
  }
 ],
 "metadata": {
  "kernelspec": {
   "display_name": "Python [conda env:base]",
   "language": "python",
   "name": "conda-base-py"
  },
  "language_info": {
   "codemirror_mode": {
    "name": "ipython",
    "version": 3
   },
   "file_extension": ".py",
   "mimetype": "text/x-python",
   "name": "python",
   "nbconvert_exporter": "python",
   "pygments_lexer": "ipython3",
   "version": "3.12.3"
  }
 },
 "nbformat": 4,
 "nbformat_minor": 5
}
